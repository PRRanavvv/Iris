{
 "cells": [
  {
   "cell_type": "code",
   "execution_count": 21,
   "id": "105a8bbb-5336-4dbe-a440-89342718053d",
   "metadata": {},
   "outputs": [],
   "source": [
    "import numpy as np\n",
    "import pandas as pd\n"
    "import matplotlib.pyplot as plt\n",
    "%matplotlib inline\n",
    "\n",
    "from sklearn.model_selection import train_test_split\n",
    "from sklearn.neighbors import KNeighborsClassifier\n",
    "from sklearn.metrics import accuracy_score\n",
    "from sklearn.metrics import confusion_matrix\n",
    "\n",
    "import seaborn as sns"
   ]
  },
  {
   "cell_type": "code",
   "execution_count": 22,
   "id": "b7730514-753d-40f2-9d93-673d6886aac7",
   "metadata": {},
   "outputs": [
    {
     "data": {
      "text/html": [
       "<div>\n",
       "<style scoped>\n",
       "    .dataframe tbody tr th:only-of-type {\n",
       "        vertical-align: middle;\n",
       "    }\n",
       "\n",
       "    .dataframe tbody tr th {\n",
       "        vertical-align: top;\n",
       "    }\n",
       "\n",
       "    .dataframe thead th {\n",
       "        text-align: right;\n",
       "    }\n",
       "</style>\n",
       "<table border=\"1\" class=\"dataframe\">\n",
       "  <thead>\n",
       "    <tr style=\"text-align: right;\">\n",
       "      <th></th>\n",
       "      <th>sepal_length</th>\n",
       "      <th>sepal_width</th>\n",
       "      <th>petal_length</th>\n",
       "      <th>petal_width</th>\n",
       "      <th>species</th>\n",
       "    </tr>\n",
       "  </thead>\n",
       "  <tbody>\n",
       "    <tr>\n",
       "      <th>0</th>\n",
       "      <td>5.1</td>\n",
       "      <td>3.5</td>\n",
       "      <td>1.4</td>\n",
       "      <td>0.2</td>\n",
       "      <td>Iris-setosa</td>\n",
       "    </tr>\n",
       "    <tr>\n",
       "      <th>1</th>\n",
       "      <td>4.9</td>\n",
       "      <td>3.0</td>\n",
       "      <td>1.4</td>\n",
       "      <td>0.2</td>\n",
       "      <td>Iris-setosa</td>\n",
       "    </tr>\n",
       "    <tr>\n",
       "      <th>2</th>\n",
       "      <td>4.7</td>\n",
       "      <td>3.2</td>\n",
       "      <td>1.3</td>\n",
       "      <td>0.2</td>\n",
       "      <td>Iris-setosa</td>\n",
       "    </tr>\n",
       "    <tr>\n",
       "      <th>3</th>\n",
       "      <td>4.6</td>\n",
       "      <td>3.1</td>\n",
       "      <td>1.5</td>\n",
       "      <td>0.2</td>\n",
       "      <td>Iris-setosa</td>\n",
       "    </tr>\n",
       "    <tr>\n",
       "      <th>4</th>\n",
       "      <td>5.0</td>\n",
       "      <td>3.6</td>\n",
       "      <td>1.4</td>\n",
       "      <td>0.2</td>\n",
       "      <td>Iris-setosa</td>\n",
       "    </tr>\n",
       "  </tbody>\n",
       "</table>\n",
       "</div>"
      ],
      "text/plain": [
       "   sepal_length  sepal_width  petal_length  petal_width      species\n",
       "0           5.1          3.5           1.4          0.2  Iris-setosa\n",
       "1           4.9          3.0           1.4          0.2  Iris-setosa\n",
       "2           4.7          3.2           1.3          0.2  Iris-setosa\n",
       "3           4.6          3.1           1.5          0.2  Iris-setosa\n",
       "4           5.0          3.6           1.4          0.2  Iris-setosa"
      ]
     },
     "execution_count": 22,
     "metadata": {},
     "output_type": "execute_result"
    }
   ],
   "source": [
    "df = pd.read_csv(\"iris-flower-dataset.csv\")\n",
    "df.head()"
   ]
  },
  {
   "cell_type": "code",
   "execution_count": 23,
   "id": "d9626e25-56bf-4bef-bace-d3f76f375654",
   "metadata": {},
   "outputs": [
    {
     "data": {
      "text/html": [
       "<div>\n",
       "<style scoped>\n",
       "    .dataframe tbody tr th:only-of-type {\n",
       "        vertical-align: middle;\n",
       "    }\n",
       "\n",
       "    .dataframe tbody tr th {\n",
       "        vertical-align: top;\n",
       "    }\n",
       "\n",
       "    .dataframe thead th {\n",
       "        text-align: right;\n",
       "    }\n",
       "</style>\n",
       "<table border=\"1\" class=\"dataframe\">\n",
       "  <thead>\n",
       "    <tr style=\"text-align: right;\">\n",
       "      <th></th>\n",
       "      <th>sepal_length</th>\n",
       "      <th>sepal_width</th>\n",
       "      <th>petal_length</th>\n",
       "      <th>petal_width</th>\n",
       "    </tr>\n",
       "  </thead>\n",
       "  <tbody>\n",
       "    <tr>\n",
       "      <th>0</th>\n",
       "      <td>5.1</td>\n",
       "      <td>3.5</td>\n",
       "      <td>1.4</td>\n",
       "      <td>0.2</td>\n",
       "    </tr>\n",
       "    <tr>\n",
       "      <th>1</th>\n",
       "      <td>4.9</td>\n",
       "      <td>3.0</td>\n",
       "      <td>1.4</td>\n",
       "      <td>0.2</td>\n",
       "    </tr>\n",
       "    <tr>\n",
       "      <th>2</th>\n",
       "      <td>4.7</td>\n",
       "      <td>3.2</td>\n",
       "      <td>1.3</td>\n",
       "      <td>0.2</td>\n",
       "    </tr>\n",
       "    <tr>\n",
       "      <th>3</th>\n",
       "      <td>4.6</td>\n",
       "      <td>3.1</td>\n",
       "      <td>1.5</td>\n",
       "      <td>0.2</td>\n",
       "    </tr>\n",
       "    <tr>\n",
       "      <th>4</th>\n",
       "      <td>5.0</td>\n",
       "      <td>3.6</td>\n",
       "      <td>1.4</td>\n",
       "      <td>0.2</td>\n",
       "    </tr>\n",
       "  </tbody>\n",
       "</table>\n",
       "</div>"
      ],
      "text/plain": [
       "   sepal_length  sepal_width  petal_length  petal_width\n",
       "0           5.1          3.5           1.4          0.2\n",
       "1           4.9          3.0           1.4          0.2\n",
       "2           4.7          3.2           1.3          0.2\n",
       "3           4.6          3.1           1.5          0.2\n",
       "4           5.0          3.6           1.4          0.2"
      ]
     },
     "execution_count": 23,
     "metadata": {},
     "output_type": "execute_result"
    }
   ],
   "source": [
    "X = df.drop(\"species\", axis=1)\n",
    "X.head()"
   ]
  },
  {
   "cell_type": "code",
   "execution_count": 24,
   "id": "e5bbb1e7-f642-4060-9754-971e123dffab",
   "metadata": {},
   "outputs": [
    {
     "data": {
      "text/plain": [
       "0    Iris-setosa\n",
       "1    Iris-setosa\n",
       "2    Iris-setosa\n",
       "3    Iris-setosa\n",
       "4    Iris-setosa\n",
       "Name: species, dtype: object"
      ]
     },
     "execution_count": 24,
     "metadata": {},
     "output_type": "execute_result"
    }
   ],
   "source": [
    "y = df[\"species\"]\n",
    "y.head()"
   ]
  },
  {
   "cell_type": "code",
   "execution_count": 25,
   "id": "e075b7ad-979c-4250-baf7-f3ffa7b9eb69",
   "metadata": {},
   "outputs": [
    {
     "data": {
      "text/html": [
       "<style>#sk-container-id-4 {color: black;}#sk-container-id-4 pre{padding: 0;}#sk-container-id-4 div.sk-toggleable {background-color: white;}#sk-container-id-4 label.sk-toggleable__label {cursor: pointer;display: block;width: 100%;margin-bottom: 0;padding: 0.3em;box-sizing: border-box;text-align: center;}#sk-container-id-4 label.sk-toggleable__label-arrow:before {content: \"▸\";float: left;margin-right: 0.25em;color: #696969;}#sk-container-id-4 label.sk-toggleable__label-arrow:hover:before {color: black;}#sk-container-id-4 div.sk-estimator:hover label.sk-toggleable__label-arrow:before {color: black;}#sk-container-id-4 div.sk-toggleable__content {max-height: 0;max-width: 0;overflow: hidden;text-align: left;background-color: #f0f8ff;}#sk-container-id-4 div.sk-toggleable__content pre {margin: 0.2em;color: black;border-radius: 0.25em;background-color: #f0f8ff;}#sk-container-id-4 input.sk-toggleable__control:checked~div.sk-toggleable__content {max-height: 200px;max-width: 100%;overflow: auto;}#sk-container-id-4 input.sk-toggleable__control:checked~label.sk-toggleable__label-arrow:before {content: \"▾\";}#sk-container-id-4 div.sk-estimator input.sk-toggleable__control:checked~label.sk-toggleable__label {background-color: #d4ebff;}#sk-container-id-4 div.sk-label input.sk-toggleable__control:checked~label.sk-toggleable__label {background-color: #d4ebff;}#sk-container-id-4 input.sk-hidden--visually {border: 0;clip: rect(1px 1px 1px 1px);clip: rect(1px, 1px, 1px, 1px);height: 1px;margin: -1px;overflow: hidden;padding: 0;position: absolute;width: 1px;}#sk-container-id-4 div.sk-estimator {font-family: monospace;background-color: #f0f8ff;border: 1px dotted black;border-radius: 0.25em;box-sizing: border-box;margin-bottom: 0.5em;}#sk-container-id-4 div.sk-estimator:hover {background-color: #d4ebff;}#sk-container-id-4 div.sk-parallel-item::after {content: \"\";width: 100%;border-bottom: 1px solid gray;flex-grow: 1;}#sk-container-id-4 div.sk-label:hover label.sk-toggleable__label {background-color: #d4ebff;}#sk-container-id-4 div.sk-serial::before {content: \"\";position: absolute;border-left: 1px solid gray;box-sizing: border-box;top: 0;bottom: 0;left: 50%;z-index: 0;}#sk-container-id-4 div.sk-serial {display: flex;flex-direction: column;align-items: center;background-color: white;padding-right: 0.2em;padding-left: 0.2em;position: relative;}#sk-container-id-4 div.sk-item {position: relative;z-index: 1;}#sk-container-id-4 div.sk-parallel {display: flex;align-items: stretch;justify-content: center;background-color: white;position: relative;}#sk-container-id-4 div.sk-item::before, #sk-container-id-4 div.sk-parallel-item::before {content: \"\";position: absolute;border-left: 1px solid gray;box-sizing: border-box;top: 0;bottom: 0;left: 50%;z-index: -1;}#sk-container-id-4 div.sk-parallel-item {display: flex;flex-direction: column;z-index: 1;position: relative;background-color: white;}#sk-container-id-4 div.sk-parallel-item:first-child::after {align-self: flex-end;width: 50%;}#sk-container-id-4 div.sk-parallel-item:last-child::after {align-self: flex-start;width: 50%;}#sk-container-id-4 div.sk-parallel-item:only-child::after {width: 0;}#sk-container-id-4 div.sk-dashed-wrapped {border: 1px dashed gray;margin: 0 0.4em 0.5em 0.4em;box-sizing: border-box;padding-bottom: 0.4em;background-color: white;}#sk-container-id-4 div.sk-label label {font-family: monospace;font-weight: bold;display: inline-block;line-height: 1.2em;}#sk-container-id-4 div.sk-label-container {text-align: center;}#sk-container-id-4 div.sk-container {/* jupyter's `normalize.less` sets `[hidden] { display: none; }` but bootstrap.min.css set `[hidden] { display: none !important; }` so we also need the `!important` here to be able to override the default hidden behavior on the sphinx rendered scikit-learn.org. See: https://github.com/scikit-learn/scikit-learn/issues/21755 */display: inline-block !important;position: relative;}#sk-container-id-4 div.sk-text-repr-fallback {display: none;}</style><div id=\"sk-container-id-4\" class=\"sk-top-container\"><div class=\"sk-text-repr-fallback\"><pre>KNeighborsClassifier()</pre><b>In a Jupyter environment, please rerun this cell to show the HTML representation or trust the notebook. <br />On GitHub, the HTML representation is unable to render, please try loading this page with nbviewer.org.</b></div><div class=\"sk-container\" hidden><div class=\"sk-item\"><div class=\"sk-estimator sk-toggleable\"><input class=\"sk-toggleable__control sk-hidden--visually\" id=\"sk-estimator-id-4\" type=\"checkbox\" checked><label for=\"sk-estimator-id-4\" class=\"sk-toggleable__label sk-toggleable__label-arrow\">KNeighborsClassifier</label><div class=\"sk-toggleable__content\"><pre>KNeighborsClassifier()</pre></div></div></div></div></div>"
      ],
      "text/plain": [
       "KNeighborsClassifier()"
      ]
     },
     "execution_count": 25,
     "metadata": {},
     "output_type": "execute_result"
    }
   ],
   "source": [
    "X_train, X_test, y_train, y_test = train_test_split(X, y, test_size=0.2, random_state=42)\n",
    "classifier = KNeighborsClassifier(n_neighbors=5)\n",
    "classifier.fit(X_train, y_train)"
   ]
  },
  {
   "cell_type": "code",
   "execution_count": 26,
   "id": "2c14cba2-9b0c-4eba-8b2f-a9d4b311ee5c",
   "metadata": {},
   "outputs": [],
   "source": [
    "from sklearn.preprocessing import StandardScaler\n",
    "from sklearn.metrics import classification_report"
   ]
  },
  {
   "cell_type": "code",
   "execution_count": 28,
   "id": "51d199c0-976e-46ee-8746-2770fb30cc3c",
   "metadata": {},
   "outputs": [],
   "source": [
    "scaler = StandardScaler()\n",
    "X_train = scaler.fit_transform(X_train)\n",
    "X_test = scaler.transform(X_test)"
   ]
  },
  {
   "cell_type": "code",
   "execution_count": 29,
   "id": "71bdd04c-d925-40c9-a935-a26c014f228c",
   "metadata": {
    "scrolled": true
   },
   "outputs": [
    {
     "name": "stdout",
     "output_type": "stream",
     "text": [
      "Accuracy:  1.0\n",
      "Classification Report:\n",
      "                  precision    recall  f1-score   support\n",
      "\n",
      "    Iris-setosa       1.00      1.00      1.00        10\n",
      "Iris-versicolor       1.00      1.00      1.00         9\n",
      " Iris-virginica       1.00      1.00      1.00        11\n",
      "\n",
      "       accuracy                           1.00        30\n",
      "      macro avg       1.00      1.00      1.00        30\n",
      "   weighted avg       1.00      1.00      1.00        30\n",
      "\n"
     ]
    }
   ],
   "source": [
    "classifier.fit(X_train, y_train)\n",
    "y_pred = classifier.predict(X_test)\n",
    "acc = accuracy_score(y_test, y_pred)\n",
    "print(\"Accuracy: \", acc)\n",
    "print(\"Classification Report:\\n\", classification_report(y_test, y_pred))"
   ]
  },
  {
   "cell_type": "code",
   "execution_count": 31,
   "id": "33208462-8aea-4216-8e86-0a88834a2bc8",
   "metadata": {},
   "outputs": [
    {
     "name": "stdout",
     "output_type": "stream",
     "text": [
      "Accuracy:  0.9333333333333333\n",
      "Classification Report:\n",
      "                  precision    recall  f1-score   support\n",
      "\n",
      "    Iris-setosa       1.00      1.00      1.00        10\n",
      "Iris-versicolor       0.89      0.89      0.89         9\n",
      " Iris-virginica       0.91      0.91      0.91        11\n",
      "\n",
      "       accuracy                           0.93        30\n",
      "      macro avg       0.93      0.93      0.93        30\n",
      "   weighted avg       0.93      0.93      0.93        30\n",
      "\n"
     ]
    }
   ],
   "source": [
    "classifier2.fit(X_train, y_train)\n",
    "y_pred2 = classifier2.predict(X_test)\n",
    "acc2 = accuracy_score(y_test, y_pred2)\n",
    "print(\"Accuracy: \", acc2)\n",
    "print(\"Classification Report:\\n\", classification_report(y_test, y_pred2))"
   ]
  },
  {
   "cell_type": "code",
   "execution_count": 32,
   "id": "5d78bbcb-32b6-4178-a5ef-f8758d673a33",
   "metadata": {},
   "outputs": [
    {
     "name": "stdout",
     "output_type": "stream",
     "text": [
      "Accuracy: 0.9333333333333333\n"
     ]
    }
   ],
   "source": [
    "acc2 = accuracy_score(y_test, y_pred2)\n",
    "print(\"Accuracy:\", acc2)"
   ]
  },
  {
   "cell_type": "code",
   "execution_count": 33,
   "id": "8e20d7c8-e430-46b3-a8f9-481007283064",
   "metadata": {},
   "outputs": [
    {
     "data": {
      "text/plain": [
       "<Axes: >"
      ]
     },
     "execution_count": 33,
     "metadata": {},
     "output_type": "execute_result"
    },
    {
     "data": {
      "image/png": "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",
      "text/plain": [
       "<Figure size 640x480 with 2 Axes>"
      ]
     },
     "metadata": {},
     "output_type": "display_data"
    }
   ],
   "source": [
    "cm = confusion_matrix(y_test, y_pred)\n",
    "sns.heatmap(cm, annot=True)"
   ]
  },
  {
   "cell_type": "code",
   "execution_count": 34,
   "id": "a03bf71f-5fc1-45af-a96f-077cf6ddf9d9",
   "metadata": {},
   "outputs": [
    {
     "data": {
      "text/plain": [
       "<Axes: >"
      ]
     },
     "execution_count": 34,
     "metadata": {},
     "output_type": "execute_result"
    },
    {
     "data": {
      "image/png": "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",
      "text/plain": [
       "<Figure size 640x480 with 2 Axes>"
      ]
     },
     "metadata": {},
     "output_type": "display_data"
    }
   ],
   "source": [
    "cm2 = confusion_matrix(y_test, y_pred2)\n",
    "sns.heatmap(cm2, annot=True)"
   ]
  },
  {
   "cell_type": "code",
   "execution_count": null,
   "id": "037d1b67-0582-45de-b2d4-ec214ae6c7c1",
   "metadata": {},
   "outputs": [],
   "source": []
  }
 ],
 "metadata": {
  "kernelspec": {
   "display_name": "Python [conda env:base] *",
   "language": "python",
   "name": "conda-base-py"
  },
  "language_info": {
   "codemirror_mode": {
    "name": "ipython",
    "version": 3
   },
   "file_extension": ".py",
   "mimetype": "text/x-python",
   "name": "python",
   "nbconvert_exporter": "python",
   "pygments_lexer": "ipython3",
   "version": "3.11.5"
  }
 },
 "nbformat": 4,
 "nbformat_minor": 5
}
